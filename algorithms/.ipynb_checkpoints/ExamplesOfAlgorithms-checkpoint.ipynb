{
 "cells": [
  {
   "cell_type": "code",
   "execution_count": 3,
   "metadata": {},
   "outputs": [],
   "source": [
    "import math"
   ]
  },
  {
   "cell_type": "code",
   "execution_count": 4,
   "metadata": {},
   "outputs": [],
   "source": [
    "def Euclidean_algorithm(a, b):\n",
    "    \"\"\"Is an efficient method for computing the greatest common divisor of two numbers (a, b)\"\"\"\n",
    "    while a != b:\n",
    "        if a > b:\n",
    "            a -= b\n",
    "        else:\n",
    "            b -= a\n",
    "    return a"
   ]
  },
  {
   "cell_type": "code",
   "execution_count": 5,
   "metadata": {},
   "outputs": [],
   "source": [
    "def Least_common_multiple(a, b):\n",
    "    \"\"\"Is the smallest positive integer that is divisible by both a and b\"\"\"\n",
    "    NWW = (a / Euclidean_algorithm(a, b)) * b\n",
    "    return NWW"
   ]
  },
  {
   "cell_type": "code",
   "execution_count": 6,
   "metadata": {},
   "outputs": [],
   "source": [
    "def Fermat_factorization(N):\n",
    "    \"\"\"The factorization method, the distriubtion of the number into prime factors\"\"\"\n",
    "    if N <= 0:\n",
    "        return 0\n",
    "    \n",
    "    i  = 2\n",
    "    e = math.floor(math.sqrt(N))\n",
    "    numbers = []\n",
    "    \n",
    "    while i <= e:\n",
    "        if N % i == 0:\n",
    "            numbers.append(i)\n",
    "            N /= i\n",
    "            e = e = math.floor(math.sqrt(N))\n",
    "        else:\n",
    "            i += 1\n",
    "    \n",
    "    if N > 1: numbers.append(N)\n",
    "    return numbers"
   ]
  },
  {
   "cell_type": "code",
   "execution_count": 8,
   "metadata": {},
   "outputs": [],
   "source": [
    "def Bubble_Sort(data):\n",
    "    \"\"\"Is a simple algorithm that repeatedly steps through the list, compares adjacent pairs and swaps them if they are in the wrong order\"\"\"\n",
    "    for i in range(len(data)-1, 1, -1):\n",
    "        for j in range(0, i):\n",
    "            if data[j] > data[j+1]:\n",
    "                data[j+1], data[j] = data[j], data[j+1]\n",
    "    return data"
   ]
  },
  {
   "cell_type": "code",
   "execution_count": 38,
   "metadata": {},
   "outputs": [],
   "source": [
    "def Fibonacci_number(N):\n",
    "    \"\"\"Fibonacci sequence, and characterized by the fact that every number after the first two is the sum of the two preceding ones\"\"\"\n",
    "    first = (0, 1)\n",
    "    a, b = first\n",
    "    number = [0]\n",
    "    while (N + 1) > 1:\n",
    "        number.append(b)\n",
    "        a, b = b, (a + b)\n",
    "        N -= 1\n",
    "    return number"
   ]
  }
 ],
 "metadata": {
  "kernelspec": {
   "display_name": "Python 3",
   "language": "python",
   "name": "python3"
  },
  "language_info": {
   "codemirror_mode": {
    "name": "ipython",
    "version": 3
   },
   "file_extension": ".py",
   "mimetype": "text/x-python",
   "name": "python",
   "nbconvert_exporter": "python",
   "pygments_lexer": "ipython3",
   "version": "3.6.3"
  }
 },
 "nbformat": 4,
 "nbformat_minor": 2
}
