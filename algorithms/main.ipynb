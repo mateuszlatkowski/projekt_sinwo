{
 "cells": [
  {
   "cell_type": "code",
   "execution_count": 17,
   "metadata": {},
   "outputs": [
    {
     "name": "stdout",
     "output_type": "stream",
     "text": [
      "# Witaj w kalkulatorze funkcji Matematycznych\n",
      "#\n",
      "# Wersja: 0.1\n",
      "\n",
      "Wybierz Algorytm Matematyczny:\n",
      "\n",
      "1. Algorytm1\n",
      "2. Algorytm2\n",
      "3. Algorytm3\n",
      "\n",
      "test klasy1\n"
     ]
    }
   ],
   "source": [
    "from Algorithms import *\n",
    "\n",
    "##Proste menu wyboru funkcji do wykonania\n",
    "# Wersja 0.1\n",
    "version = \"0.1\"\n",
    "# projekt_sinwo\n",
    "# Mateusz Liber & Mateusz Latkowski\n",
    "\n",
    "#\n",
    "#\n",
    "#\n",
    "# Zbiór algorytmów gotowych do wykonania\n",
    "\n",
    "\n",
    "#Koniec zbioru algorytmów\n",
    "#\n",
    "#\n",
    "#\n",
    "\n",
    "def main():\n",
    "    'Function contains simple selection menu'\n",
    "    task_list = [(klasa1(), \"Algorytm1\"), (klasa2(), \"Algorytm2\"), (klasa3(), \"Algorytm3\")]\n",
    "    \n",
    "    # Napisy do użytkownika\n",
    "    print(\"# Witaj w kalkulatorze funkcji Matematycznych\")\n",
    "    print(\"#\")\n",
    "    print(\"# Wersja: \"+version)\n",
    "    print(\"\")\n",
    "    print(\"Wybierz Algorytm Matematyczny:\")\n",
    "    print(\"\")\n",
    "    \n",
    "    for i in range(len(task_list)):\n",
    "        print(str(i+1)+\". \"+str(task_list[i][1]))\n",
    "    \n",
    "    print(\"\")\n",
    "    task_tmp = input('Podaj numer algorytmu do wykonania: ')\n",
    "    \n",
    "    if(task_tmp==str(1)):\n",
    "        newTask = klasa1()\n",
    "    elif(task_tmp==str(2)):\n",
    "        newTask = klasa2()\n",
    "    elif(task_tmp==str(3)):\n",
    "        newTask = klasa3()\n",
    "    else:\n",
    "        print(\"Nieprawidłowy numer Algorytmu\")\n",
    "        \n",
    "    print(newTask)\n",
    "        \n",
    "main()"
   ]
  },
  {
   "cell_type": "code",
   "execution_count": null,
   "metadata": {},
   "outputs": [],
   "source": []
  }
 ],
 "metadata": {
  "kernelspec": {
   "display_name": "Python 3",
   "language": "python",
   "name": "python3"
  },
  "language_info": {
   "codemirror_mode": {
    "name": "ipython",
    "version": 3
   },
   "file_extension": ".py",
   "mimetype": "text/x-python",
   "name": "python",
   "nbconvert_exporter": "python",
   "pygments_lexer": "ipython3",
   "version": "3.6.3"
  }
 },
 "nbformat": 4,
 "nbformat_minor": 2
}
