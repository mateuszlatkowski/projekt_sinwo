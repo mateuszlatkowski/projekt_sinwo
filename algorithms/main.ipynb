{
 "cells": [
  {
   "cell_type": "code",
   "execution_count": 1,
   "metadata": {},
   "outputs": [
    {
     "name": "stdout",
     "output_type": "stream",
     "text": [

      "\n",
      "Select the algorithm to perform:\n",
      "\n",
      "1. Euclidean Algorithm\n",
      "2. Least Common Multiply\n",
      "3. Fibonacci Number\n",
      "4. Quadratic formula\n",
      "5. Hanoi Tower\n",
      "6. Fermat Algorithm\n",
      "7. Bubble Sort\n",
      "\n",
      "Pick Algorithm: \n",
      "\n",
      "Output:  [2, 3, 4, 5, 6]\n",
      "\n"
     ]
    }
   ],
   "source": [
    "from Algorithms import *\n",
    "\n",
    "##Proste menu wyboru funkcji do wykonania\n",

    "# Wersja 0.3\n",
    "version = \"0.4\"\n",
    "# projekt_sinwo\n",
    "# Mateusz Liber & Mateusz Latkowski\n",
    "\n",
    "def main():\n",
    "    'Function contains simple selection menu'\n",
    "    task_list = [Algorithms.Euclidean(), Algorithms.LCM(), Algorithms.Fibonacci(), Algorithms.Quadratic_formula(), Algorithms.Hanoi(), Algorithms.FermatFactorization(), Algorithms.BubbleSort()]\n",
    "    \n",
    "    print(\"\\nSelect the algorithm to perform:\\n\")\n",
    "    \n",
    "    for i in range(len(task_list)):\n",
    "        print(str(i+1)+\". \"+str(task_list[i]))\n",
    "    \n",
    "    print(\"\")\n",
    "    print('Pick Algorithm: \\n')\n",
    "    task_tmp = input(\"Alghoritm: \")\n",
    "     \n",
    "    if(int(task_tmp) <= len(task_list)):\n",
    "        acctual_algorithm = task_list[(int(task_tmp)-1)]\n",
    "        print(\"Output: \", acctual_algorithm.start())\n",
    "        print()\n",
    "    else:\n",
    "        print(\"Ivaild Algortihm Number\")\n",
    "        print()\n",
    "main()"
   ]
  },
  {
   "cell_type": "code",
   "execution_count": 1,
   "metadata": {},
   "outputs": [],
   "source": [
    "\n",
    "\n",
    "\n"
   ]
  }
 ],
 "metadata": {
  "kernelspec": {
   "display_name": "Python 3",
   "language": "python",
   "name": "python3"
  },
  "language_info": {
   "codemirror_mode": {
    "name": "ipython",
    "version": 3
   },
   "file_extension": ".py",
   "mimetype": "text/x-python",
   "name": "python",
   "nbconvert_exporter": "python",
   "pygments_lexer": "ipython3",
   "version": "3.6.3"
  }
 },
 "nbformat": 4,
 "nbformat_minor": 2
}
