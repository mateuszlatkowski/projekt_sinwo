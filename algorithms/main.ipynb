{
 "cells": [
  {
   "cell_type": "code",
   "execution_count": null,
   "metadata": {},
   "outputs": [
    {
     "name": "stdout",
     "output_type": "stream",
     "text": [
      "# Witaj w kalkulatorze funkcji Matematycznych\n",
      "#\n",
      "# Wersja: 0.2\n",
      "\n",
      "Wybierz Algorytm Matematyczny:\n",
      "\n",
      "1. test klasy1\n",
      "2. test klasy2\n",
      "3. test klasy3\n",
      "\n",
      "Podaj numer algorytmu do wykonania: \n"
     ]
    }
   ],
   "source": [
    "from Algorithms import *\n",
    "\n",
    "##Proste menu wyboru funkcji do wykonania\n",
    "# Wersja 0.2\n",
    "version = \"0.2\"\n",
    "# projekt_sinwo\n",
    "# Mateusz Liber & Mateusz Latkowski\n",
    "\n",
    "#\n",
    "#\n",
    "#\n",
    "# Zbiór algorytmów gotowych do wykonania\n",
    "\n",
    "\n",
    "#Koniec zbioru algorytmów\n",
    "#\n",
    "#\n",
    "#\n",
    "\n",
    "def main():\n",
    "    'Function contains simple selection menu'\n",
    "    task_list = [klasa1(), klasa2(), klasa3()]\n",
    "    \n",
    "    # Napisy do użytkownika\n",
    "    print(\"# Witaj w kalkulatorze funkcji Matematycznych\")\n",
    "    print(\"#\")\n",
    "    print(\"# Wersja: \"+version)\n",
    "    print(\"\")\n",
    "    print(\"Wybierz Algorytm Matematyczny:\")\n",
    "    print(\"\")\n",
    "    \n",
    "    for i in range(len(task_list)):\n",
    "        print(str(i+1)+\". \"+str(task_list[i]))\n",
    "    \n",
    "    print(\"\")\n",
    "    print('Podaj numer algorytmu do wykonania: ')\n",
    "    task_tmp = input(\"Wybrany algorytm nr:\")\n",
    "     \n",
    "    \n",
    "    if(int(task_tmp) <= len(task_list)):\n",
    "         print(task_list[int(task_tmp)-1])\n",
    "    else:\n",
    "        print(\"Nieprawidłowy numer Algorytmu\")\n",
    "        \n",
    "main()"
   ]
  },
  {
   "cell_type": "code",
   "execution_count": null,
   "metadata": {},
   "outputs": [],
   "source": []
  }
 ],
 "metadata": {
  "kernelspec": {
   "display_name": "Python 3",
   "language": "python",
   "name": "python3"
  },
  "language_info": {
   "codemirror_mode": {
    "name": "ipython",
    "version": 3
   },
   "file_extension": ".py",
   "mimetype": "text/x-python",
   "name": "python",
   "nbconvert_exporter": "python",
   "pygments_lexer": "ipython3",
   "version": "3.6.3"
  }
 },
 "nbformat": 4,
 "nbformat_minor": 2
}
